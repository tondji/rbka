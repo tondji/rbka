{
 "cells": [
  {
   "cell_type": "code",
   "execution_count": 1,
   "id": "3d574de1",
   "metadata": {},
   "outputs": [],
   "source": [
    "import numpy as np\n",
    "import matplotlib\n",
    "import matplotlib.pyplot as plt\n",
    "\n",
    "from tools import kaczmarz_method, sparse\n",
    "from plot_tools import plot_residuals, plot_errors\n",
    "\n",
    "import warnings\n",
    "warnings.filterwarnings('ignore')"
   ]
  },
  {
   "cell_type": "code",
   "execution_count": 2,
   "id": "e873ad45",
   "metadata": {},
   "outputs": [],
   "source": [
    "#@title : Matplotlib configuration\n",
    "\n",
    "font = {'family' : 'normal',\n",
    "        'weight' : 'bold',\n",
    "        'size'   : 24}\n",
    "\n",
    "matplotlib.rc('font', **font)\n",
    "\n",
    "SMALL_SIZE = 10 \n",
    "MEDIUM_SIZE = 12 \n",
    "BIGGER_SIZE = 14 \n",
    "\n",
    "plt.rc('font', size=SMALL_SIZE)          # controls default text sizes\n",
    "plt.rc('axes', titlesize=SMALL_SIZE)     # fontsize of the axes title\n",
    "plt.rc('axes', labelsize=MEDIUM_SIZE)    # fontsize of the x and y labels\n",
    "plt.rc('xtick', labelsize=SMALL_SIZE)    # fontsize of the tick labels\n",
    "plt.rc('ytick', labelsize=SMALL_SIZE)    # fontsize of the tick labels\n",
    "plt.rc('legend', fontsize=SMALL_SIZE)    # legend fontsize\n",
    "plt.rc('figure', titlesize=BIGGER_SIZE)  # fontsize of the figure title\n",
    "plt.rcParams['text.usetex'] = True\n",
    "\n",
    "  # activate latex text rendering\n",
    "plt.rc('axes', linewidth=2)\n",
    "plt.rc('font', weight='bold')\n",
    "\n",
    "plt.rcParams['text.latex.preamble'] = [r'\\usepackage{sfmath} \\boldmath']"
   ]
  },
  {
   "cell_type": "code",
   "execution_count": 3,
   "id": "935ee4b0",
   "metadata": {},
   "outputs": [],
   "source": [
    "# Fixing random state for reproducibility\n",
    "np.random.seed(1234)"
   ]
  },
  {
   "cell_type": "code",
   "execution_count": 4,
   "id": "63533da1",
   "metadata": {},
   "outputs": [],
   "source": [
    "# Create the toy example\n",
    "\n",
    "# Run this notebook to produce different plots in the paper:\n",
    "#     (m, n) = (200, 600) for figure 12\n",
    "\n",
    "m = 200 # number of equation\n",
    "n = 600 # number of unknown"
   ]
  },
  {
   "cell_type": "code",
   "execution_count": 5,
   "id": "0449fa69",
   "metadata": {},
   "outputs": [
    {
     "name": "stdout",
     "output_type": "stream",
     "text": [
      "(200, 600) (600, 1) (200, 1) 10\n"
     ]
    }
   ],
   "source": [
    "s = 10  # number of nonzeros in solution\n",
    "\n",
    "A = np.random.randn(m,n) \n",
    "x_true = sparse(np.random.randn(n,1),s)\n",
    "\n",
    "noiselev = 0.0\n",
    "\n",
    "b = A @ x_true\n",
    "\n",
    "noise = np.random.randn(m,1)\n",
    "noise = noise/np.linalg.norm(noise)\n",
    "\n",
    "b_noisy = b + noiselev*noise\n",
    "\n",
    "print(A.shape, x_true.shape, b.shape, s)"
   ]
  },
  {
   "cell_type": "markdown",
   "id": "854fb6a3",
   "metadata": {},
   "source": [
    "# Effect of $\\lambda$ in terms of $\\eta$ on the convergence"
   ]
  },
  {
   "cell_type": "code",
   "execution_count": 6,
   "id": "95733f64",
   "metadata": {},
   "outputs": [
    {
     "name": "stdout",
     "output_type": "stream",
     "text": [
      "On the first case\n",
      " alpha = 16.847979522029277, eta = 21, eta_opt = 82.0\n"
     ]
    }
   ],
   "source": [
    "methods = ['RSK', 'RSKA' ]\n",
    "\n",
    "lambda_list = [i/10 for i in range(31)] \n",
    "\n",
    "########################################################3\n",
    "W_rsk = [1 for _ in range(m)] \n",
    "\n",
    "\n",
    "eta_rsk = 1\n",
    "eta_rska = 21 \n",
    "\n",
    "squared_row_norms = np.linalg.norm(A, axis=1) ** 2\n",
    "Fnorm = squared_row_norms.sum()\n",
    "\n",
    "_, max_A, _ = np.linalg.svd(A, full_matrices=True)\n",
    "\n",
    "smax = max_A[0]**2/Fnorm\n",
    "smin = max_A[-1]**2/Fnorm\n",
    "eta_opt = int(np.ceil(1/smax))\n",
    "\n",
    "if (smax - smin) <= 1/(eta_rska - 1):\n",
    "    print('On the first case')\n",
    "    alpha_rska = eta_rska/(1 + (eta_rska-1)*smax)\n",
    "    print(f' alpha = {alpha_rska}, eta = {eta_rska}, eta_opt = {np.ceil(1/smax)}')\n",
    "\n",
    "elif (smax - smin) > 1/(eta_rska - 1):\n",
    "    print('On the second case')\n",
    "    alpha_rska = (2*eta_rska)/(1 + (eta_rska-1)*(smin+smax))\n",
    "    print(f' alpha = {alpha_rska}, eta = {eta_rska}, eta_opt = {np.ceil(1/smax)}')\n",
    "\n",
    "W_rska = [alpha_rska for _ in range(m)] \n",
    "\n",
    "########################################################3\n",
    "\n",
    "eta_lambda_results = dict()\n",
    "for method in methods:\n",
    "    eta_lambda_results[method] = dict()\n",
    "\n",
    "\n",
    "for method in methods:\n",
    "    \n",
    "    residual = []\n",
    "    error = []\n",
    "    for lmbda in lambda_list:\n",
    "        iterations = 1000\n",
    "        itera = iterations + int(lmbda*1000)\n",
    "        if method == 'RSK':\n",
    "            Result = kaczmarz_method(A, b, eta_rsk,  x_true, W_rsk, itera, bN=b_noisy, lbda=lmbda)\n",
    "        elif method == 'RSKA':\n",
    "            Result = kaczmarz_method(A, b, eta_rska,  x_true, W_rska, itera, bN=b_noisy, lbda=lmbda)\n",
    "        residual.append(Result[1][-1])\n",
    "        error.append(Result[2][-1])\n",
    "\n",
    "    eta_lambda_results[method]['residuals'] = residual\n",
    "    eta_lambda_results[method]['errors'] = error"
   ]
  },
  {
   "cell_type": "code",
   "execution_count": 7,
   "id": "6f96e32f",
   "metadata": {},
   "outputs": [],
   "source": [
    "#@title : Plot for effect of $\\lambda$ in terms of $\\eta$\n",
    "\n",
    "\n",
    "def plot_residual(results, label):\n",
    "    plt.figure(figsize=(6,6))\n",
    "    X = [i/10 for i in range(31)]\n",
    "    for key in list(results.keys()):\n",
    "        plt.plot(X, results[key]['residuals'], label = '{}'.format(key))\n",
    "\n",
    "    plt.xlabel(r'$\\mathbf{\\lambda}$', fontsize=12)\n",
    "    plt.yscale('log')\n",
    "    plt.ylabel(r'$\\mathbf{\\|Ax - b\\|/\\|b\\|}$', fontsize=16)\n",
    "    plt.legend()\n",
    "    plt.grid(True)\n",
    "    plt.savefig('residualsfor_{}.png'.format(label), format='png', dpi=200,bbox_inches='tight')\n",
    "    plt.show()\n",
    "\n",
    "\n",
    "def plot_error(results, label):\n",
    "    plt.figure(figsize=(6,6))\n",
    "    X = [i/10 for i in range(31)]\n",
    "    for key in list(results.keys()):\n",
    "        plt.plot(X, results[key]['errors'], label = '{}'.format(key) )\n",
    "\n",
    "    plt.xlabel(r'$\\mathbf{\\lambda}$', fontsize=12)\n",
    "    plt.yscale('log')\n",
    "    plt.ylabel(r'$\\mathbf{\\|x - \\hat x\\|/\\|\\hat x\\|}$', fontsize=16)\n",
    "    plt.legend()\n",
    "    plt.grid(True)\n",
    "    plt.savefig('errorfor{}.png'.format(label), format='png', dpi=200,bbox_inches='tight')\n",
    "    plt.show()"
   ]
  },
  {
   "cell_type": "code",
   "execution_count": 8,
   "id": "dba014ee",
   "metadata": {},
   "outputs": [
    {
     "data": {
      "image/png": "[encoded data removed]",
      "text/plain": [
       "<Figure size 600x600 with 1 Axes>"
      ]
     },
     "metadata": {},
     "output_type": "display_data"
    }
   ],
   "source": [
    "plot_error(eta_lambda_results, 'lambda')"
   ]
  },
  {
   "cell_type": "code",
   "execution_count": 9,
   "id": "724f1eae",
   "metadata": {},
   "outputs": [
    {
     "data": {
      "image/png": "[encoded data removed]",
      "text/plain": [
       "<Figure size 600x600 with 1 Axes>"
      ]
     },
     "metadata": {},
     "output_type": "display_data"
    }
   ],
   "source": [
    "plot_residual(eta_lambda_results, 'lambda')"
   ]
  },
  {
   "cell_type": "code",
   "execution_count": null,
   "id": "7cbbdc4f",
   "metadata": {},
   "outputs": [
    {
     "name": "stdout",
     "output_type": "stream",
     "text": [
      "On the first case\n",
      " alpha = 16.847979522029277, eta = 21, eta_opt = 82.0\n"
     ]
    }
   ],
   "source": [
    "methods = ['RSK', 'RSKA' ]\n",
    "\n",
    "lambda_list = [i/10 for i in range(31)] \n",
    "\n",
    "########################################################3\n",
    "W_rsk = [1 for _ in range(m)] \n",
    "\n",
    "eta_rsk = 1\n",
    "eta_rska = 21 \n",
    "\n",
    "squared_row_norms = np.linalg.norm(A, axis=1) ** 2\n",
    "Fnorm = squared_row_norms.sum()\n",
    "\n",
    "_, max_A, _ = np.linalg.svd(A, full_matrices=True)\n",
    "\n",
    "smax = max_A[0]**2/Fnorm\n",
    "smin = max_A[-1]**2/Fnorm\n",
    "eta_opt = int(np.ceil(1/smax))\n",
    "\n",
    "if (smax - smin) <= 1/(eta_rska - 1):\n",
    "    print('On the first case')\n",
    "    alpha_rska = eta_rska/(1 + (eta_rska-1)*smax)\n",
    "    print(f' alpha = {alpha_rska}, eta = {eta_rska}, eta_opt = {np.ceil(1/smax)}')\n",
    "\n",
    "elif (smax - smin) > 1/(eta_rska - 1):\n",
    "    print('On the second case')\n",
    "    alpha_rska = (2*eta_rska)/(1 + (eta_rska-1)*(smin+smax))\n",
    "    print(f' alpha = {alpha_rska}, eta = {eta_rska}, eta_opt = {np.ceil(1/smax)}')\n",
    "\n",
    "W_rska = [alpha_rska for _ in range(m)] \n",
    "\n",
    "########################################################3\n",
    "\n",
    "eta_lambda_results = dict()\n",
    "for method in methods:\n",
    "    eta_lambda_results[method] = dict()\n",
    "\n",
    "\n",
    "for method in methods:\n",
    "    \n",
    "    residual = []\n",
    "    error = []\n",
    "    for lmbda in lambda_list:\n",
    "        iterations = 1000\n",
    "        if method == 'RSK':\n",
    "            Result = kaczmarz_method(A, b, eta_rsk,  x_true, W_rsk, iterations, bN=b_noisy, lbda=lmbda)\n",
    "        elif method == 'RSKA':\n",
    "            Result = kaczmarz_method(A, b, eta_rska,  x_true, W_rska, iterations, bN=b_noisy, lbda=lmbda)\n",
    "        residual.append(Result[1][-1])\n",
    "        error.append(Result[2][-1])\n",
    "\n",
    "    eta_lambda_results[method]['residuals'] = residual\n",
    "    eta_lambda_results[method]['errors'] = error"
   ]
  },
  {
   "cell_type": "code",
   "execution_count": null,
   "id": "63d046ea",
   "metadata": {},
   "outputs": [],
   "source": [
    "plot_error(eta_lambda_results, 'lambda')"
   ]
  },
  {
   "cell_type": "code",
   "execution_count": null,
   "id": "35894788",
   "metadata": {},
   "outputs": [],
   "source": [
    "plot_residual(eta_lambda_results, 'lambda')"
   ]
  }
 ],
 "metadata": {
  "kernelspec": {
   "display_name": "Python 3 (ipykernel)",
   "language": "python",
   "name": "python3"
  },
  "language_info": {
   "codemirror_mode": {
    "name": "ipython",
    "version": 3
   },
   "file_extension": ".py",
   "mimetype": "text/x-python",
   "name": "python",
   "nbconvert_exporter": "python",
   "pygments_lexer": "ipython3",
   "version": "3.11.1"
  }
 },
 "nbformat": 4,
 "nbformat_minor": 5
}
